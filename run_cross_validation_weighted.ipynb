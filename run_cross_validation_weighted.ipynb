{
  "cells": [
    {
      "cell_type": "code",
      "execution_count": null,
      "id": "8535dfae",
      "metadata": {
        "id": "8535dfae"
      },
      "outputs": [],
      "source": [
        "import os\n",
        "import numpy as np\n",
        "from load_data import *\n",
        "from sklearn.model_selection import train_test_split\n",
        "import torch\n",
        "from torch.nn import *\n",
        "from models import *\n",
        "from training import *\n",
        "from sklearn.model_selection import KFold\n",
        "from torch.utils.data import *\n",
        "import matplotlib.pyplot as plt\n",
        "import time"
      ]
    },
    {
      "cell_type": "code",
      "execution_count": null,
      "id": "LXSqYPpsqwqy",
      "metadata": {
        "id": "LXSqYPpsqwqy"
      },
      "outputs": [],
      "source": [
        "# Set seed for random initialization\n",
        "torch.manual_seed(0)\n",
        "torch.cuda.manual_seed(0)"
      ]
    },
    {
      "cell_type": "markdown",
      "id": "3e6147da",
      "metadata": {
        "id": "3e6147da"
      },
      "source": [
        "# Load data"
      ]
    },
    {
      "cell_type": "code",
      "execution_count": null,
      "id": "ca9a3ae5",
      "metadata": {
        "id": "ca9a3ae5"
      },
      "outputs": [],
      "source": [
        "params, solutions, basis_space, basis_time, sv_space, sv_time = load_data()\n",
        "\n",
        "# Upper and lower bound of params\n",
        "upper_bounds_params = np.array([8.0, 0.3, 0.5, 0.5, 0.5, 0.0])\n",
        "lower_bounds_params = np.array([4.0, 0.1, -0.1, -0.5, -0.5, -0.3])\n",
        "\n",
        "# Params mapping to [0, 1]\n",
        "params = (params - lower_bounds_params) / (upper_bounds_params - lower_bounds_params)"
      ]
    },
    {
      "cell_type": "markdown",
      "id": "fd71f467-ceea-4fb3-8475-094ec33fa775",
      "metadata": {
        "id": "fd71f467-ceea-4fb3-8475-094ec33fa775"
      },
      "source": [
        "# Singular values"
      ]
    },
    {
      "cell_type": "code",
      "execution_count": null,
      "id": "ac61e9fe",
      "metadata": {},
      "outputs": [],
      "source": [
        "def f(w):\n",
        "\t\"\"\" Transformation of singular values.\n",
        "\tArgs:\n",
        "\t\tw: singular values, array of shape (Ns',) or (Nt',)\n",
        "\tReturns:\n",
        "\t\tw: transformed singular values\n",
        "\t\"\"\"\n",
        "\t# return w\n",
        "\t# return w ** 2\n",
        "\treturn torch.sqrt(w)"
      ]
    },
    {
      "cell_type": "code",
      "execution_count": null,
      "id": "1c33c416-2f9e-4f24-820c-31f8511da65f",
      "metadata": {
        "id": "1c33c416-2f9e-4f24-820c-31f8511da65f"
      },
      "outputs": [],
      "source": [
        "# Transformation of the singular values\n",
        "\n",
        "sv_space_v = torch.tensor(sv_space['velocity'], dtype=torch.float32)\n",
        "sv_space_v = f(sv_space_v)\n",
        "\n",
        "sv_time_v = torch.tensor(sv_time['velocity'], dtype=torch.float32)\n",
        "sv_time_v = f(sv_time_v)\n",
        "\n",
        "sv_space_p = torch.tensor(sv_space['pressure'], dtype=torch.float32)\n",
        "sv_space_p = f(sv_space_p)\n",
        "\n",
        "sv_time_p = torch.tensor(sv_time['pressure'], dtype=torch.float32)\n",
        "sv_time_p = f(sv_time_p)\n",
        "\n",
        "# Step 1: compute the cartesian product between the singular values in space and time\n",
        "# Step 2: reshape from (Ns', Nt') to (Ns' * Nt',)\n",
        "\n",
        "sv_v = torch.reshape(sv_space_v.view(sv_space_v.shape[0], -1) * sv_time_v.view(-1, sv_time_v.shape[0]), (-1, sv_space_v.shape[0] * sv_time_v.shape[0])).squeeze()\n",
        "sv_p = torch.reshape(sv_space_p.view(sv_space_p.shape[0], -1) * sv_time_p.view(-1, sv_time_p.shape[0]), (-1, sv_space_p.shape[0] * sv_time_p.shape[0])).squeeze()\n",
        "\n",
        "sv_v = sv_v / torch.sum(sv_v)\n",
        "sv_p = sv_p / torch.sum(sv_p)"
      ]
    },
    {
      "cell_type": "markdown",
      "id": "389cf677-1e1e-4ff6-ab88-fc51c0e3c885",
      "metadata": {
        "id": "389cf677-1e1e-4ff6-ab88-fc51c0e3c885"
      },
      "source": [
        "# Split training and test set"
      ]
    },
    {
      "cell_type": "code",
      "execution_count": null,
      "id": "ea33baed-71fe-4537-aacf-e787463424bc",
      "metadata": {
        "id": "ea33baed-71fe-4537-aacf-e787463424bc"
      },
      "outputs": [],
      "source": [
        "# Splitting train-test\n",
        "\n",
        "split = 0.9\n",
        "\n",
        "x_train_v, x_test_v, y_train_v, y_test_v = train_test_split(params, solutions['velocity'], test_size=1-split, random_state=0)\n",
        "x_train_p, x_test_p, y_train_p, y_test_p = train_test_split(params, solutions['pressure'], test_size=1-split, random_state=0)"
      ]
    },
    {
      "cell_type": "markdown",
      "id": "862d8552-d1b6-413f-b1aa-959952e2f08c",
      "metadata": {
        "id": "862d8552-d1b6-413f-b1aa-959952e2f08c"
      },
      "source": [
        "# Create Dataset objects for training and validation"
      ]
    },
    {
      "cell_type": "code",
      "execution_count": null,
      "id": "56fdf4f0-84e9-456e-a3ee-af945e0bb42e",
      "metadata": {
        "id": "56fdf4f0-84e9-456e-a3ee-af945e0bb42e"
      },
      "outputs": [],
      "source": [
        "# Class for a dataset structure\n",
        "\n",
        "class CreateDataset(Dataset):\n",
        "\n",
        "    def __init__(self,x,y):\n",
        "        self.x = torch.tensor(x, dtype=torch.float32)\n",
        "        self.y = torch.tensor(y.reshape(x.shape[0], -1), dtype=torch.float32)  # unique tensor for space and time\n",
        "\n",
        "    def __getitem__(self,index):\n",
        "        sample = {\n",
        "            'feature': self.x[index],\n",
        "            'label': self.y[index]}\n",
        "        return sample\n",
        "\n",
        "    def __len__(self):\n",
        "        return len(self.x)"
      ]
    },
    {
      "cell_type": "markdown",
      "id": "apmkjvUgLcGY",
      "metadata": {
        "id": "apmkjvUgLcGY"
      },
      "source": [
        "# Cross validation"
      ]
    },
    {
      "cell_type": "code",
      "execution_count": null,
      "id": "qSMto74cLbb-",
      "metadata": {
        "id": "qSMto74cLbb-"
      },
      "outputs": [],
      "source": [
        "def cross_validation(folds, x, y, PTCMap, K, sv, num_epochs, lr, device):\n",
        "\n",
        "    kf = KFold(folds)\n",
        "\n",
        "    errors = []\n",
        "    exec_times = []\n",
        "\n",
        "    basis_space = y.shape[1]\n",
        "    basis_time = y.shape[2]\n",
        "\n",
        "    for fold_idx, (train_idx, val_idx) in enumerate(kf.split(x)):\n",
        "\n",
        "        x_train, y_train, x_val, y_val = x[train_idx], y[train_idx], x[val_idx], y[val_idx]\n",
        "\n",
        "        train = CreateDataset(x_train, y_train)\n",
        "        val = CreateDataset(x_val, y_val)\n",
        "\n",
        "        batch_size = 32\n",
        "\n",
        "        torch.manual_seed(0)\n",
        "        torch.cuda.manual_seed(0)\n",
        "\n",
        "        train_gen = DataLoader(train, batch_size=batch_size, shuffle=True)\n",
        "        val_gen = DataLoader(val, batch_size=batch_size, shuffle=True)\n",
        "\n",
        "        model = PTCMap(K, basis_space, basis_time)\n",
        "\n",
        "        start = time.time()\n",
        "\n",
        "        run_training_weighted(train_gen, val_gen, num_epochs, model, sv, lr, device)\n",
        "\n",
        "        end = time.time()\n",
        "        print('Execution time: {:.0f}s'.format(end - start))\n",
        "        exec_times.append(end - start)\n",
        "\n",
        "        error = compute_error_weighted(model, val_gen, device)\n",
        "        errors.append(error)\n",
        "\n",
        "    errors = np.array(errors)\n",
        "    exec_times = np.array(exec_times)\n",
        "\n",
        "    return np.mean(errors), np.std(errors), np.mean(exec_times), np.std(exec_times)"
      ]
    },
    {
      "cell_type": "markdown",
      "id": "4c0898ec-2868-46b8-a436-34bb347460c1",
      "metadata": {
        "id": "4c0898ec-2868-46b8-a436-34bb347460c1"
      },
      "source": [
        "# Cross validation for velocity"
      ]
    },
    {
      "cell_type": "code",
      "execution_count": null,
      "id": "e487ec95-74b6-40b7-b18e-9951b73be30a",
      "metadata": {
        "id": "e487ec95-74b6-40b7-b18e-9951b73be30a"
      },
      "outputs": [],
      "source": [
        "# Parameters\n",
        "\n",
        "# Set device for training\n",
        "device = torch.device('cuda:0' if torch.cuda.is_available() else 'cpu')\n",
        "\n",
        "# Number of neurons per layer\n",
        "K = 256\n",
        "\n",
        "# Learning rate\n",
        "lr = 0.01\n",
        "\n",
        "# Number of epochs\n",
        "num_epochs = 500\n",
        "\n",
        "# K-fold\n",
        "folds = 5"
      ]
    },
    {
      "cell_type": "code",
      "execution_count": null,
      "id": "aPzQ_pskPGsr",
      "metadata": {
        "colab": {
          "base_uri": "https://localhost:8080/",
          "height": 1000
        },
        "id": "aPzQ_pskPGsr",
        "outputId": "e70c031a-f6d8-4fcb-91d9-2102052394dc"
      },
      "outputs": [],
      "source": [
        "error, std, t_mean, t_std = cross_validation(folds, x_train_v, y_train_v, PTCMapVelocity, K, sv_v, num_epochs, lr, device)"
      ]
    },
    {
      "cell_type": "code",
      "execution_count": null,
      "id": "FSOTbGknY3mF",
      "metadata": {
        "colab": {
          "base_uri": "https://localhost:8080/"
        },
        "id": "FSOTbGknY3mF",
        "outputId": "db9dfc4d-3142-486a-f795-ba9fd65fb206"
      },
      "outputs": [],
      "source": [
        "print(\"Error: mean = {:.3f}, std = {:.3f}\".format(error, std))"
      ]
    },
    {
      "cell_type": "code",
      "execution_count": null,
      "id": "mUShCKYu1T0_",
      "metadata": {
        "colab": {
          "base_uri": "https://localhost:8080/"
        },
        "id": "mUShCKYu1T0_",
        "outputId": "db2b9e9c-07df-475b-e8eb-7196ed5532c8"
      },
      "outputs": [],
      "source": [
        "print(\"Time: mean = {:.3f}, std = {:.3f}\".format(t_mean, t_std))"
      ]
    },
    {
      "cell_type": "markdown",
      "id": "jC5cl3-tcGnD",
      "metadata": {
        "id": "jC5cl3-tcGnD"
      },
      "source": [
        "# Cross validation for pressure"
      ]
    },
    {
      "cell_type": "code",
      "execution_count": null,
      "id": "EiZOyF_DcGCo",
      "metadata": {
        "id": "EiZOyF_DcGCo"
      },
      "outputs": [],
      "source": [
        "# Parameters\n",
        "\n",
        "# Set device for training\n",
        "device = torch.device('cuda:0' if torch.cuda.is_available() else 'cpu')\n",
        "\n",
        "# Number of neurons per layer\n",
        "K = 256\n",
        "\n",
        "# Learning rate\n",
        "lr = 0.01\n",
        "\n",
        "# Number of epochs\n",
        "num_epochs = 500\n",
        "\n",
        "# K-fold\n",
        "folds = 5"
      ]
    },
    {
      "cell_type": "code",
      "execution_count": null,
      "id": "8P2f9kz_SYiU",
      "metadata": {
        "colab": {
          "base_uri": "https://localhost:8080/",
          "height": 1000
        },
        "id": "8P2f9kz_SYiU",
        "outputId": "9381dffb-61f3-4c8f-830a-3568e4b54b81"
      },
      "outputs": [],
      "source": [
        "error, std, t_mean, t_std = cross_validation(folds, x_train_p, y_train_p, PTCMapPressure, K, sv_p, num_epochs, lr, device)"
      ]
    },
    {
      "cell_type": "code",
      "execution_count": null,
      "id": "DPGbvoXbQMlM",
      "metadata": {
        "colab": {
          "base_uri": "https://localhost:8080/"
        },
        "id": "DPGbvoXbQMlM",
        "outputId": "dca3663f-86d4-4bba-9c7d-1a0a03406fe5"
      },
      "outputs": [],
      "source": [
        "print(\"Error: mean = {:.3f}, std = {:.3f}\".format(error, std))"
      ]
    },
    {
      "cell_type": "code",
      "execution_count": null,
      "id": "zz-Tv3Lwyost",
      "metadata": {
        "colab": {
          "base_uri": "https://localhost:8080/"
        },
        "id": "zz-Tv3Lwyost",
        "outputId": "736cb9e5-6c14-478d-de76-bb944dbc6403"
      },
      "outputs": [],
      "source": [
        "print(\"Time: mean = {:.3f}, std = {:.3f}\".format(t_mean, t_std))"
      ]
    }
  ],
  "metadata": {
    "accelerator": "GPU",
    "colab": {
      "gpuType": "T4",
      "provenance": []
    },
    "kernelspec": {
      "display_name": "Python 3",
      "name": "python3"
    },
    "language_info": {
      "codemirror_mode": {
        "name": "ipython",
        "version": 3
      },
      "file_extension": ".py",
      "mimetype": "text/x-python",
      "name": "python",
      "nbconvert_exporter": "python",
      "pygments_lexer": "ipython3",
      "version": "3.11.5"
    }
  },
  "nbformat": 4,
  "nbformat_minor": 5
}
